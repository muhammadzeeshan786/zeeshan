{
 "cells": [
  {
   "cell_type": "code",
   "execution_count": 11,
   "metadata": {},
   "outputs": [
    {
     "name": "stdout",
     "output_type": "stream",
     "text": [
      "enter Your Salary1444400\n"
     ]
    }
   ],
   "source": [
    "Enter = input(\"enter Your Salary\")"
   ]
  },
  {
   "cell_type": "code",
   "execution_count": 12,
   "metadata": {},
   "outputs": [
    {
     "name": "stdout",
     "output_type": "stream",
     "text": [
      "Sum is: 58085\n"
     ]
    }
   ],
   "source": [
    "salry = 1500\n",
    "bonus = 56585\n",
    "sumvalu = salry + bonus\n",
    "print(\"Sum is:\",sumvalu)"
   ]
  },
  {
   "cell_type": "code",
   "execution_count": 13,
   "metadata": {},
   "outputs": [
    {
     "name": "stdout",
     "output_type": "stream",
     "text": [
      "Multiplication: 84877500\n"
     ]
    }
   ],
   "source": [
    "print(\"Multiplication:\", salry * bonus)"
   ]
  },
  {
   "cell_type": "code",
   "execution_count": 14,
   "metadata": {},
   "outputs": [
    {
     "name": "stdout",
     "output_type": "stream",
     "text": [
      "Enter Your FeedbackThanks For Pay Salry At Right Time\n"
     ]
    }
   ],
   "source": [
    "Msg = input(\"Enter Your Feedback\")"
   ]
  },
  {
   "cell_type": "code",
   "execution_count": 20,
   "metadata": {},
   "outputs": [],
   "source": [
    "name = \"Muhammad Zeeshan\"\n",
    "className = \"Cloud\""
   ]
  },
  {
   "cell_type": "code",
   "execution_count": 21,
   "metadata": {},
   "outputs": [
    {
     "name": "stdout",
     "output_type": "stream",
     "text": [
      "hello Muhammad Zeeshan\n",
      "Your Applicaton has been AcceptedCloud\n"
     ]
    }
   ],
   "source": [
    "massage = \"hello \" + name + \"\\n\" \"Your Applicaton has been Accepted\" + className\n",
    "print(massage)"
   ]
  },
  {
   "cell_type": "code",
   "execution_count": 22,
   "metadata": {},
   "outputs": [],
   "source": [
    "name = \"Muhammad zeeshan\"\n",
    "Class = \"I.C.S\""
   ]
  },
  {
   "cell_type": "code",
   "execution_count": 26,
   "metadata": {},
   "outputs": [
    {
     "data": {
      "text/plain": [
       "'muhammad zeeshan'"
      ]
     },
     "execution_count": 26,
     "metadata": {},
     "output_type": "execute_result"
    }
   ],
   "source": [
    "name.lower()"
   ]
  },
  {
   "cell_type": "code",
   "execution_count": 25,
   "metadata": {},
   "outputs": [
    {
     "name": "stdout",
     "output_type": "stream",
     "text": [
      "Assalam O aliakum! Please Submit Your FeeMuhammad Zeeshan\n",
      "Other Wise Your are Dismis for Class ofI.C.S\n"
     ]
    }
   ],
   "source": [
    "message = \"Assalam O aliakum! Please Submit Your Fee\" + name + \"\\n\" + \"Other Wise Your are Dismis for Class of\" + Class\n",
    "print(message)"
   ]
  },
  {
   "cell_type": "code",
   "execution_count": 27,
   "metadata": {},
   "outputs": [
    {
     "data": {
      "text/plain": [
       "'Muhammad Zeeshan'"
      ]
     },
     "execution_count": 27,
     "metadata": {},
     "output_type": "execute_result"
    }
   ],
   "source": [
    "name.title()"
   ]
  },
  {
   "cell_type": "code",
   "execution_count": 28,
   "metadata": {},
   "outputs": [
    {
     "data": {
      "text/plain": [
       "'MUHAMMAD ZEESHAN'"
      ]
     },
     "execution_count": 28,
     "metadata": {},
     "output_type": "execute_result"
    }
   ],
   "source": [
    "name.upper()"
   ]
  },
  {
   "cell_type": "code",
   "execution_count": 30,
   "metadata": {
    "scrolled": true
   },
   "outputs": [
    {
     "name": "stdout",
     "output_type": "stream",
     "text": [
      "Hello Muhammad Zeeshan\n",
      "Your application is accepted for Cloud\n"
     ]
    }
   ],
   "source": [
    "message = \"\"\"Hello {personName}\n",
    "Your application is accepted for {personClass}\"\"\".format(personClass = className, personName = name)\n",
    "print(message)"
   ]
  },
  {
   "cell_type": "code",
   "execution_count": 36,
   "metadata": {},
   "outputs": [
    {
     "name": "stdout",
     "output_type": "stream",
     "text": [
      "Welcome in Our Online ClassMuhammad Yasin\n",
      "if You Want To Learn And Earn MoneyOnline Learning\n"
     ]
    }
   ],
   "source": [
    "name = \"Muhammad Yasin\"\n",
    "classname = \"Online Learning\"\n",
    "msg = \"\"\"Welcome in Our Online Class\"\"\" + name + \"\\n\"  + \"if You Want To Learn And Earn Money\" + classname\n",
    "print(msg)"
   ]
  },
  {
   "cell_type": "code",
   "execution_count": 37,
   "metadata": {},
   "outputs": [
    {
     "data": {
      "text/plain": [
       "'muhammad yasin'"
      ]
     },
     "execution_count": 37,
     "metadata": {},
     "output_type": "execute_result"
    }
   ],
   "source": [
    "name.lower()"
   ]
  },
  {
   "cell_type": "code",
   "execution_count": 38,
   "metadata": {},
   "outputs": [
    {
     "name": "stdout",
     "output_type": "stream",
     "text": [
      "Sum is: 26000\n"
     ]
    }
   ],
   "source": [
    "Dgm = 12000\n",
    "fbm = 14000\n",
    "sumvalue = Dgm + fbm \n",
    "print(\"Sum is:\", sumvalue)"
   ]
  },
  {
   "cell_type": "code",
   "execution_count": null,
   "metadata": {},
   "outputs": [],
   "source": []
  }
 ],
 "metadata": {
  "kernelspec": {
   "display_name": "Python 3",
   "language": "python",
   "name": "python3"
  },
  "language_info": {
   "codemirror_mode": {
    "name": "ipython",
    "version": 3
   },
   "file_extension": ".py",
   "mimetype": "text/x-python",
   "name": "python",
   "nbconvert_exporter": "python",
   "pygments_lexer": "ipython3",
   "version": "3.7.4"
  }
 },
 "nbformat": 4,
 "nbformat_minor": 2
}
